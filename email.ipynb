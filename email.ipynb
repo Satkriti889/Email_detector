{
 "cells": [
  {
   "cell_type": "code",
   "execution_count": null,
   "id": "2328c828",
   "metadata": {},
   "outputs": [
    {
     "name": "stdout",
     "output_type": "stream",
     "text": [
      "Email sent sucessfully\n"
     ]
    }
   ],
   "source": [
    "import smtplib\n",
    "from email.message import EmailMessage\n",
    "\n",
    "SENDER_EMAIL = \"satkritikhadka2061@gmail.com\"\n",
    "APP_PASSWORD=\"ciqj nrnn erac fgso\"\n",
    "RECIPIENT_EMAIL = \"mahatrakesh77@gmail.com\"\n",
    "\n",
    "msg=EmailMessage()\n",
    "msg['subject']=\"🤑 You Just Won $500,000 in the International Lotto Draw!\"\n",
    "msg['From']=SENDER_EMAIL\n",
    "msg['To']=RECIPIENT_EMAIL\n",
    "msg.set_content(\"Congratulations!Your email address was selected in the INTERNATIONAL ONLINE LOTTERY. You have won $500,000 USD!To claim your prize, contact our agent immediately:\")\n",
    "\n",
    "try:\n",
    "    with smtplib.SMTP_SSL('smtp.gmail.com',465)as smtp:\n",
    "        smtp.login(SENDER_EMAIL,APP_PASSWORD)\n",
    "        smtp.send_message(msg)\n",
    "    print(\"Email sent sucessfully\")\n",
    "\n",
    "except Exception as e:\n",
    "    print(\"Could not send email.Check your credentials and settings\")\n",
    "    print(\"Error:{e}\")\n",
    "    print(\"\\nNOTE: This is expected if you haven't replaced the placeholder credentials\")\n"
   ]
  },
  {
   "cell_type": "code",
   "execution_count": null,
   "id": "63738e2f",
   "metadata": {},
   "outputs": [],
   "source": []
  }
 ],
 "metadata": {
  "kernelspec": {
   "display_name": "venv",
   "language": "python",
   "name": "python3"
  },
  "language_info": {
   "codemirror_mode": {
    "name": "ipython",
    "version": 3
   },
   "file_extension": ".py",
   "mimetype": "text/x-python",
   "name": "python",
   "nbconvert_exporter": "python",
   "pygments_lexer": "ipython3",
   "version": "3.12.1"
  }
 },
 "nbformat": 4,
 "nbformat_minor": 5
}
